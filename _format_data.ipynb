{
 "cells": [
  {
   "cell_type": "code",
   "execution_count": 23,
   "metadata": {},
   "outputs": [],
   "source": [
    "import pandas as pd\n",
    "import numpy as np\n",
    "import matplotlib.pyplot as plt\n",
    "import glob\n",
    "import os"
   ]
  },
  {
   "cell_type": "code",
   "execution_count": 24,
   "metadata": {},
   "outputs": [],
   "source": [
    "input_folder = 'data/processed/'"
   ]
  },
  {
   "cell_type": "code",
   "execution_count": 25,
   "metadata": {},
   "outputs": [],
   "source": [
    "datafiles = glob.glob(input_folder + '*.csv')\n",
    "# shuffle datafiles\n",
    "np.random.shuffle(datafiles)"
   ]
  },
  {
   "cell_type": "code",
   "execution_count": 26,
   "metadata": {},
   "outputs": [],
   "source": [
    "# Random shuffle the data and split into train, validation and test sets\n",
    "data_len = len(datafiles)\n",
    "\n",
    "# Store first 80% of data as training set\n",
    "train_len = int(data_len * 0.8)\n",
    "train_data = datafiles[:train_len]\n",
    "\n",
    "# Store next 10% of data as validation set\n",
    "val_len = int(data_len * 0.1)\n",
    "val_data = datafiles[train_len:train_len+val_len]\n",
    "\n",
    "# Store last 10% of data as test set\n",
    "test_data = datafiles[train_len+val_len:]"
   ]
  },
  {
   "cell_type": "code",
   "execution_count": 27,
   "metadata": {},
   "outputs": [],
   "source": [
    "if os.name == 'nt':\n",
    "    for file in train_data:\n",
    "        df = pd.read_csv(file)\n",
    "        df.to_csv(input_folder + 'train/' + file.split('\\\\')[-1], index=False)\n",
    "\n",
    "    for file in val_data:\n",
    "        df = pd.read_csv(file)\n",
    "        df.to_csv(input_folder + 'valid/' + file.split('\\\\')[-1], index=False)\n",
    "\n",
    "    for file in test_data:\n",
    "        df = pd.read_csv(file)\n",
    "        df.to_csv(input_folder + 'test/' + file.split('\\\\')[-1], index=False)\n",
    "else:\n",
    "    for file in train_data:\n",
    "        df = pd.read_csv(file)\n",
    "        df.to_csv(input_folder + 'train/' + file.split('/')[-1], index=False)\n",
    "\n",
    "    for file in val_data:\n",
    "        df = pd.read_csv(file)\n",
    "        df.to_csv(input_folder + 'valid/' + file.split('/')[-1], index=False)\n",
    "\n",
    "    for file in test_data:\n",
    "        df = pd.read_csv(file)\n",
    "        df.to_csv(input_folder + 'test/' + file.split('/')[-1], index=False)"
   ]
  },
  {
   "cell_type": "code",
   "execution_count": 28,
   "metadata": {},
   "outputs": [],
   "source": [
    "# remove original files\n",
    "for file in datafiles:\n",
    "    os.remove(file)"
   ]
  },
  {
   "cell_type": "code",
   "execution_count": 29,
   "metadata": {},
   "outputs": [],
   "source": [
    "# Read the data from the csv files\n",
    "train_data = glob.glob(input_folder + 'train/*.csv')\n",
    "valid_data = glob.glob(input_folder + 'valid/*.csv')\n",
    "test_data = glob.glob(input_folder + 'test/*.csv')"
   ]
  },
  {
   "cell_type": "code",
   "execution_count": 30,
   "metadata": {},
   "outputs": [
    {
     "name": "stdout",
     "output_type": "stream",
     "text": [
      "Number of training files:  4240\n",
      "Number of validation files:  530\n",
      "Number of test files:  531\n"
     ]
    }
   ],
   "source": [
    "print('Number of training files: ', len(train_data))\n",
    "print('Number of validation files: ', len(valid_data))\n",
    "print('Number of test files: ', len(test_data))"
   ]
  }
 ],
 "metadata": {
  "kernelspec": {
   "display_name": "cen598",
   "language": "python",
   "name": "python3"
  },
  "language_info": {
   "codemirror_mode": {
    "name": "ipython",
    "version": 3
   },
   "file_extension": ".py",
   "mimetype": "text/x-python",
   "name": "python",
   "nbconvert_exporter": "python",
   "pygments_lexer": "ipython3",
   "version": "3.9.18"
  },
  "orig_nbformat": 4
 },
 "nbformat": 4,
 "nbformat_minor": 2
}
