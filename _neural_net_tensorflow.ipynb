{
 "cells": [
  {
   "cell_type": "code",
   "execution_count": 1,
   "metadata": {},
   "outputs": [],
   "source": [
    "import glob\n",
    "import pandas as pd\n",
    "import numpy as np\n",
    "import tensorflow as tf\n",
    "import keras\n",
    "from keras import layers\n",
    "from sklearn.metrics import classification_report\n",
    "from tqdm import tqdm\n",
    "from _posture_detection_model import PostureDetectionModel\n",
    "from _posture_detection_dataset import PostureDetectionDataset"
   ]
  },
  {
   "cell_type": "code",
   "execution_count": 2,
   "metadata": {},
   "outputs": [
    {
     "name": "stdout",
     "output_type": "stream",
     "text": [
      "Num GPUs Available:  1\n"
     ]
    }
   ],
   "source": [
    "print(\"Num GPUs Available: \", len(tf.config.list_physical_devices('GPU')))\n",
    "input_channels = 3\n",
    "channel_sequence_dim = 200\n",
    "output_class = 5\n",
    "Model_Name = \"posture_detection_model\""
   ]
  },
  {
   "cell_type": "code",
   "execution_count": 3,
   "metadata": {},
   "outputs": [
    {
     "name": "stdout",
     "output_type": "stream",
     "text": [
      "Found 4240 files in Folder data/processed/train/\n"
     ]
    },
    {
     "name": "stderr",
     "output_type": "stream",
     "text": [
      "100%|██████████| 4240/4240 [00:22<00:00, 190.34it/s]\n"
     ]
    },
    {
     "name": "stdout",
     "output_type": "stream",
     "text": [
      "Found 530 files in Folder data/processed/valid/\n"
     ]
    },
    {
     "name": "stderr",
     "output_type": "stream",
     "text": [
      "100%|██████████| 530/530 [00:03<00:00, 157.85it/s]\n"
     ]
    },
    {
     "name": "stdout",
     "output_type": "stream",
     "text": [
      "Found 531 files in Folder data/processed/test/\n"
     ]
    },
    {
     "name": "stderr",
     "output_type": "stream",
     "text": [
      "100%|██████████| 531/531 [00:00<00:00, 1099.05it/s]"
     ]
    },
    {
     "name": "stdout",
     "output_type": "stream",
     "text": [
      "train_dataset: 530\n",
      "val_dataset: 265\n",
      "test_dataset: 531\n"
     ]
    },
    {
     "name": "stderr",
     "output_type": "stream",
     "text": [
      "\n"
     ]
    }
   ],
   "source": [
    "train_dataset = PostureDetectionDataset('data/processed/train/', batch_size=8, shuffle=True)\n",
    "val_dataset = PostureDetectionDataset('data/processed/valid/', batch_size=2, shuffle=True)\n",
    "test_dataset = PostureDetectionDataset('data/processed/test/', batch_size=1, shuffle=False)\n",
    "\n",
    "print(\"train_dataset:\", len(train_dataset))\n",
    "print(\"val_dataset:\", len(val_dataset))\n",
    "print(\"test_dataset:\", len(test_dataset))"
   ]
  },
  {
   "cell_type": "code",
   "execution_count": 4,
   "metadata": {},
   "outputs": [
    {
     "name": "stdout",
     "output_type": "stream",
     "text": [
      "(8, 200, 3)\n",
      "(8, 5)\n",
      "[309, 3735, 2661, 5282, 2099, 832, 857, 2107]\n"
     ]
    }
   ],
   "source": [
    "data, label, window = train_dataset[100]\n",
    "print(data.shape)\n",
    "print(label.shape)\n",
    "print(window)"
   ]
  },
  {
   "cell_type": "code",
   "execution_count": 5,
   "metadata": {},
   "outputs": [],
   "source": [
    "model = PostureDetectionModel(input_channels, channel_sequence_dim, output_class)"
   ]
  },
  {
   "cell_type": "code",
   "execution_count": 6,
   "metadata": {},
   "outputs": [
    {
     "name": "stdout",
     "output_type": "stream",
     "text": [
      "Model: \"posture_detection_model\"\n",
      "_________________________________________________________________\n",
      " Layer (type)                Output Shape              Param #   \n",
      "=================================================================\n",
      " sequential (Sequential)     (None, 5)                 23845     \n",
      "|¯¯¯¯¯¯¯¯¯¯¯¯¯¯¯¯¯¯¯¯¯¯¯¯¯¯¯¯¯¯¯¯¯¯¯¯¯¯¯¯¯¯¯¯¯¯¯¯¯¯¯¯¯¯¯¯¯¯¯¯¯¯¯|\n",
      "| gru (GRU)                 (None, 80)                20400     |\n",
      "|                                                               |\n",
      "| dense (Dense)             (None, 40)                3240      |\n",
      "|                                                               |\n",
      "| dropout (Dropout)         (None, 40)                0         |\n",
      "|                                                               |\n",
      "| dense_1 (Dense)           (None, 5)                 205       |\n",
      "¯¯¯¯¯¯¯¯¯¯¯¯¯¯¯¯¯¯¯¯¯¯¯¯¯¯¯¯¯¯¯¯¯¯¯¯¯¯¯¯¯¯¯¯¯¯¯¯¯¯¯¯¯¯¯¯¯¯¯¯¯¯¯¯¯\n",
      "=================================================================\n",
      "Total params: 23,845\n",
      "Trainable params: 23,845\n",
      "Non-trainable params: 0\n",
      "_________________________________________________________________\n"
     ]
    }
   ],
   "source": [
    "model.build(input_shape=(4, 200, 3))\n",
    "model.summary(expand_nested=True)"
   ]
  },
  {
   "cell_type": "code",
   "execution_count": 7,
   "metadata": {},
   "outputs": [],
   "source": [
    "optimizer = keras.optimizers.SGD(learning_rate=0.001, momentum=0.9)\n",
    "loss_fn = keras.losses.CategoricalCrossentropy()"
   ]
  },
  {
   "cell_type": "code",
   "execution_count": 8,
   "metadata": {},
   "outputs": [],
   "source": [
    "def train(optimizer, criterion):\n",
    "    print(\"Training the Model...\")\n",
    "    loss_metric = keras.metrics.Mean()\n",
    "    with tf.device('/device:GPU:0'):\n",
    "        for step, x_batch_train in enumerate(train_dataset):\n",
    "            with tf.GradientTape() as tape:\n",
    "                data, label, window = x_batch_train\n",
    "                # Forward pass\n",
    "                output = model(data, training=True)\n",
    "                # Compute loss\n",
    "                loss = criterion(label, output)\n",
    "                loss += sum(model.losses)\n",
    "                \n",
    "            grads = tape.gradient(loss, model.trainable_weights)\n",
    "            optimizer.apply_gradients(zip(grads, model.trainable_weights))\n",
    "\n",
    "            loss_metric(loss)\n",
    "\n",
    "    return loss_metric.result()\n",
    "\n",
    "def validation(criterion):\n",
    "    print(\"Validating the Model...\")\n",
    "    loss_metric = keras.metrics.Mean()\n",
    "    with tf.device('/device:GPU:0'):\n",
    "        for step, x_batch_validation in enumerate(val_dataset):\n",
    "            data, label, window = x_batch_validation\n",
    "            # Forward pass\n",
    "            output = model(data, training=False)\n",
    "            # Compute loss\n",
    "            loss = criterion(label, output)\n",
    "            loss += sum(model.losses)\n",
    "            \n",
    "            loss_metric(loss)\n",
    "\n",
    "    return loss_metric.result()\n",
    "\n",
    "def test():\n",
    "    print(\"Testing the Model...\")\n",
    "    \n",
    "    y_true = []\n",
    "    y_pred = []\n",
    "\n",
    "    for step, x_batch_test in enumerate(test_dataset):\n",
    "        data, label, window = x_batch_test\n",
    "        # Forward pass\n",
    "        output = model(data, training=False)\n",
    "        # Convert to 1 hot encoding\n",
    "        predicted = tf.argmax(output, axis=1)\n",
    "        label = tf.argmax(label, axis=1)\n",
    "\n",
    "        y_true.append(label)\n",
    "        y_pred.append(predicted)\n",
    "        \n",
    "    concat_y_true = tf.concat(y_true, axis=0)\n",
    "    concat_y_pred = tf.concat(y_pred, axis=0)\n",
    "\n",
    "    print(classification_report(concat_y_true, concat_y_pred))\n"
   ]
  },
  {
   "cell_type": "code",
   "execution_count": 9,
   "metadata": {},
   "outputs": [
    {
     "name": "stdout",
     "output_type": "stream",
     "text": [
      "Training the Model...\n",
      "Validating the Model...\n",
      "Epoch 0: train loss = 1.4637, val loss = 1.2891\n",
      "Training the Model...\n",
      "Validating the Model...\n",
      "Epoch 1: train loss = 1.3380, val loss = 1.1785\n",
      "Training the Model...\n",
      "Validating the Model...\n",
      "Epoch 2: train loss = 1.2797, val loss = 1.1105\n",
      "Training the Model...\n",
      "Validating the Model...\n",
      "Epoch 3: train loss = 1.2317, val loss = 1.0615\n",
      "Training the Model...\n",
      "Validating the Model...\n",
      "Epoch 4: train loss = 1.1930, val loss = 1.0220\n",
      "Training the Model...\n",
      "Validating the Model...\n",
      "Epoch 5: train loss = 1.1669, val loss = 0.9784\n",
      "Training the Model...\n",
      "Validating the Model...\n",
      "Epoch 6: train loss = 1.1382, val loss = 0.9505\n",
      "Training the Model...\n",
      "Validating the Model...\n",
      "Epoch 7: train loss = 1.1204, val loss = 0.9257\n",
      "Training the Model...\n",
      "Validating the Model...\n",
      "Epoch 8: train loss = 1.0820, val loss = 0.8954\n",
      "Training the Model...\n",
      "Validating the Model...\n",
      "Epoch 9: train loss = 1.0466, val loss = 0.8668\n",
      "Training the Model...\n",
      "Validating the Model...\n",
      "Epoch 10: train loss = 1.0265, val loss = 0.8559\n",
      "Training the Model...\n",
      "Validating the Model...\n",
      "Epoch 11: train loss = 0.9963, val loss = 0.8236\n",
      "Training the Model...\n",
      "Validating the Model...\n",
      "Epoch 12: train loss = 0.9740, val loss = 0.8122\n",
      "Training the Model...\n",
      "Validating the Model...\n",
      "Epoch 13: train loss = 0.9619, val loss = 0.7976\n",
      "Training the Model...\n",
      "Validating the Model...\n",
      "Epoch 14: train loss = 0.9482, val loss = 0.7791\n",
      "Training the Model...\n",
      "Validating the Model...\n",
      "Epoch 15: train loss = 0.9396, val loss = 0.7665\n",
      "Training the Model...\n",
      "Validating the Model...\n",
      "Epoch 16: train loss = 0.9140, val loss = 0.7446\n",
      "Training the Model...\n",
      "Validating the Model...\n",
      "Epoch 17: train loss = 0.8959, val loss = 0.7365\n",
      "Training the Model...\n",
      "Validating the Model...\n",
      "Epoch 18: train loss = 0.8915, val loss = 0.7256\n",
      "Training the Model...\n",
      "Validating the Model...\n",
      "Epoch 19: train loss = 0.8686, val loss = 0.7076\n",
      "Testing the Model...\n",
      "              precision    recall  f1-score   support\n",
      "\n",
      "           0       0.77      0.66      0.71        87\n",
      "           1       0.83      0.60      0.70        92\n",
      "           2       0.63      0.87      0.73       146\n",
      "           3       0.87      0.77      0.82        81\n",
      "           4       0.68      0.64      0.66       125\n",
      "\n",
      "    accuracy                           0.72       531\n",
      "   macro avg       0.76      0.71      0.72       531\n",
      "weighted avg       0.74      0.72      0.72       531\n",
      "\n"
     ]
    }
   ],
   "source": [
    "epochs = 20\n",
    "\n",
    "train_losses = []\n",
    "valid_losses = []\n",
    "\n",
    "# Iterate over epochs.\n",
    "for epoch in range(epochs):\n",
    "    train_loss = train(optimizer, loss_fn)\n",
    "    train_losses.append(train_loss)\n",
    "\n",
    "    val_loss = validation(loss_fn)\n",
    "    valid_losses.append(val_loss)\n",
    "\n",
    "    print(\"Epoch %d: train loss = %.4f, val loss = %.4f\" % (epoch, train_loss, val_loss))\n",
    "\n",
    "test()"
   ]
  },
  {
   "cell_type": "code",
   "execution_count": 10,
   "metadata": {},
   "outputs": [
    {
     "data": {
      "image/png": "[encoded data removed]",
      "text/plain": [
       "<Figure size 640x480 with 1 Axes>"
      ]
     },
     "metadata": {},
     "output_type": "display_data"
    }
   ],
   "source": [
    "#plotting the training and validation loss\n",
    "import matplotlib.pyplot as plt\n",
    "plt.plot(train_losses, label='Training loss')\n",
    "plt.plot(valid_losses, label='Validation loss')\n",
    "plt.legend()\n",
    "plt.savefig('losses - relu activated.png')\n",
    "plt.show()"
   ]
  },
  {
   "cell_type": "code",
   "execution_count": 11,
   "metadata": {},
   "outputs": [],
   "source": [
    "# Assume 'model' is your trained model\n",
    "model.save_weights(Model_Name + '.h5')"
   ]
  },
  {
   "cell_type": "code",
   "execution_count": 13,
   "metadata": {},
   "outputs": [
    {
     "name": "stderr",
     "output_type": "stream",
     "text": [
      "WARNING:absl:Found untraced functions such as gru_cell_layer_call_fn, gru_cell_layer_call_and_return_conditional_losses while saving (showing 2 of 2). These functions will not be directly callable after loading.\n"
     ]
    },
    {
     "name": "stdout",
     "output_type": "stream",
     "text": [
      "INFO:tensorflow:Assets written to: C:\\Users\\Aninda\\AppData\\Local\\Temp\\tmp8ma_ia8z\\assets\n"
     ]
    },
    {
     "name": "stderr",
     "output_type": "stream",
     "text": [
      "INFO:tensorflow:Assets written to: C:\\Users\\Aninda\\AppData\\Local\\Temp\\tmp8ma_ia8z\\assets\n"
     ]
    }
   ],
   "source": [
    "# Convert the model.\n",
    "converter = tf.lite.TFLiteConverter.from_keras_model(model)\n",
    "converter.target_spec.supported_ops = [tf.lite.OpsSet.TFLITE_BUILTINS, tf.lite.OpsSet.SELECT_TF_OPS] \n",
    "converter._experimental_lower_tensor_list_ops = False\n",
    "\n",
    "tflite_model = converter.convert()\n",
    "\n",
    "# Save the model.\n",
    "with open(Model_Name + '.tflite', 'wb') as f:\n",
    "  f.write(tflite_model)"
   ]
  },
  {
   "cell_type": "code",
   "execution_count": null,
   "metadata": {},
   "outputs": [],
   "source": [
    "# Install xxd if it is not available\n",
    "!apt-get update && apt-get -qq install xxd\n",
    "# Convert to a C source file, i.e, a TensorFlow Lite for Microcontrollers model\n",
    "!xxd -i {QUANTIZED_TFL_MODEL_FILENAME} > {TFL_CC_MODEL_FILENAME}\n",
    "# Update variable names\n",
    "REPLACE_TEXT = QUANTIZED_TFL_MODEL_FILENAME.replace('/', '_').replace('.', '_')\n",
    "!sed -i 's/'{REPLACE_TEXT}'/g_magic_wand_model_data/g' {TFL_CC_MODEL_FILENAME}"
   ]
  }
 ],
 "metadata": {
  "kernelspec": {
   "display_name": "cen598",
   "language": "python",
   "name": "python3"
  },
  "language_info": {
   "codemirror_mode": {
    "name": "ipython",
    "version": 3
   },
   "file_extension": ".py",
   "mimetype": "text/x-python",
   "name": "python",
   "nbconvert_exporter": "python",
   "pygments_lexer": "ipython3",
   "version": "3.9.18"
  },
  "orig_nbformat": 4
 },
 "nbformat": 4,
 "nbformat_minor": 2
}
