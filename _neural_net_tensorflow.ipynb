{
 "cells": [
  {
   "cell_type": "code",
   "execution_count": 1,
   "metadata": {},
   "outputs": [
    {
     "name": "stderr",
     "output_type": "stream",
     "text": [
      "2023-10-08 12:59:57.180699: E tensorflow/compiler/xla/stream_executor/cuda/cuda_dnn.cc:9342] Unable to register cuDNN factory: Attempting to register factory for plugin cuDNN when one has already been registered\n",
      "2023-10-08 12:59:57.180752: E tensorflow/compiler/xla/stream_executor/cuda/cuda_fft.cc:609] Unable to register cuFFT factory: Attempting to register factory for plugin cuFFT when one has already been registered\n",
      "2023-10-08 12:59:57.180798: E tensorflow/compiler/xla/stream_executor/cuda/cuda_blas.cc:1518] Unable to register cuBLAS factory: Attempting to register factory for plugin cuBLAS when one has already been registered\n",
      "2023-10-08 12:59:57.192387: I tensorflow/core/platform/cpu_feature_guard.cc:182] This TensorFlow binary is optimized to use available CPU instructions in performance-critical operations.\n",
      "To enable the following instructions: AVX2 FMA, in other operations, rebuild TensorFlow with the appropriate compiler flags.\n"
     ]
    }
   ],
   "source": [
    "import glob\n",
    "import pandas as pd\n",
    "import numpy as np\n",
    "import tensorflow as tf\n",
    "import keras\n",
    "from keras import layers\n",
    "from sklearn.metrics import classification_report\n",
    "from tqdm import tqdm\n",
    "from _posture_detection_model import PostureDetectionModel_LSTM, PostureDetectionModel_GRU, PostureDetectionModel_Dense\n",
    "from _posture_detection_dataset import PostureDetectionDataset"
   ]
  },
  {
   "cell_type": "code",
   "execution_count": 2,
   "metadata": {},
   "outputs": [
    {
     "name": "stdout",
     "output_type": "stream",
     "text": [
      "Num GPUs Available:  1\n"
     ]
    },
    {
     "name": "stderr",
     "output_type": "stream",
     "text": [
      "2023-10-08 12:59:59.199537: I tensorflow/compiler/xla/stream_executor/cuda/cuda_gpu_executor.cc:880] could not open file to read NUMA node: /sys/bus/pci/devices/0000:01:00.0/numa_node\n",
      "Your kernel may have been built without NUMA support.\n",
      "2023-10-08 12:59:59.210369: I tensorflow/compiler/xla/stream_executor/cuda/cuda_gpu_executor.cc:880] could not open file to read NUMA node: /sys/bus/pci/devices/0000:01:00.0/numa_node\n",
      "Your kernel may have been built without NUMA support.\n",
      "2023-10-08 12:59:59.210414: I tensorflow/compiler/xla/stream_executor/cuda/cuda_gpu_executor.cc:880] could not open file to read NUMA node: /sys/bus/pci/devices/0000:01:00.0/numa_node\n",
      "Your kernel may have been built without NUMA support.\n"
     ]
    }
   ],
   "source": [
    "print(\"Num GPUs Available: \", len(tf.config.list_physical_devices('GPU')))\n",
    "input_channels = 3\n",
    "channel_sequence_dim = 200\n",
    "output_class = 5\n",
    "Model_Name = \"posture_detection_model\""
   ]
  },
  {
   "cell_type": "code",
   "execution_count": 3,
   "metadata": {},
   "outputs": [
    {
     "name": "stdout",
     "output_type": "stream",
     "text": [
      "Found 4240 files in Folder data/processed/train/\n"
     ]
    },
    {
     "name": "stderr",
     "output_type": "stream",
     "text": [
      "100%|██████████| 4240/4240 [00:03<00:00, 1201.91it/s]\n"
     ]
    },
    {
     "name": "stdout",
     "output_type": "stream",
     "text": [
      "Found 530 files in Folder data/processed/valid/\n"
     ]
    },
    {
     "name": "stderr",
     "output_type": "stream",
     "text": [
      "100%|██████████| 530/530 [00:00<00:00, 1226.73it/s]\n"
     ]
    },
    {
     "name": "stdout",
     "output_type": "stream",
     "text": [
      "Found 531 files in Folder data/processed/test/\n"
     ]
    },
    {
     "name": "stderr",
     "output_type": "stream",
     "text": [
      "100%|██████████| 531/531 [00:00<00:00, 865.55it/s] "
     ]
    },
    {
     "name": "stdout",
     "output_type": "stream",
     "text": [
      "train_dataset: 530\n",
      "val_dataset: 265\n",
      "test_dataset: 531\n"
     ]
    },
    {
     "name": "stderr",
     "output_type": "stream",
     "text": [
      "\n"
     ]
    }
   ],
   "source": [
    "train_dataset = PostureDetectionDataset('data/processed/train/', batch_size=8, shuffle=True)\n",
    "val_dataset = PostureDetectionDataset('data/processed/valid/', batch_size=2, shuffle=True)\n",
    "test_dataset = PostureDetectionDataset('data/processed/test/', batch_size=1, shuffle=False)\n",
    "\n",
    "print(\"train_dataset:\", len(train_dataset))\n",
    "print(\"val_dataset:\", len(val_dataset))\n",
    "print(\"test_dataset:\", len(test_dataset))"
   ]
  },
  {
   "cell_type": "code",
   "execution_count": 4,
   "metadata": {},
   "outputs": [
    {
     "name": "stdout",
     "output_type": "stream",
     "text": [
      "(8, 200, 3)\n",
      "(8, 5)\n",
      "[490, 3903, 3041, 1951, 4200, 1504, 4585, 3934]\n"
     ]
    }
   ],
   "source": [
    "data, label, window = train_dataset[100]\n",
    "print(data.shape)\n",
    "print(label.shape)\n",
    "print(window)"
   ]
  },
  {
   "cell_type": "code",
   "execution_count": 5,
   "metadata": {},
   "outputs": [
    {
     "name": "stderr",
     "output_type": "stream",
     "text": [
      "2023-10-08 13:00:03.835748: I tensorflow/compiler/xla/stream_executor/cuda/cuda_gpu_executor.cc:880] could not open file to read NUMA node: /sys/bus/pci/devices/0000:01:00.0/numa_node\n",
      "Your kernel may have been built without NUMA support.\n",
      "2023-10-08 13:00:03.835821: I tensorflow/compiler/xla/stream_executor/cuda/cuda_gpu_executor.cc:880] could not open file to read NUMA node: /sys/bus/pci/devices/0000:01:00.0/numa_node\n",
      "Your kernel may have been built without NUMA support.\n",
      "2023-10-08 13:00:03.835851: I tensorflow/compiler/xla/stream_executor/cuda/cuda_gpu_executor.cc:880] could not open file to read NUMA node: /sys/bus/pci/devices/0000:01:00.0/numa_node\n",
      "Your kernel may have been built without NUMA support.\n",
      "2023-10-08 13:00:04.589222: I tensorflow/compiler/xla/stream_executor/cuda/cuda_gpu_executor.cc:880] could not open file to read NUMA node: /sys/bus/pci/devices/0000:01:00.0/numa_node\n",
      "Your kernel may have been built without NUMA support.\n",
      "2023-10-08 13:00:04.589279: I tensorflow/compiler/xla/stream_executor/cuda/cuda_gpu_executor.cc:880] could not open file to read NUMA node: /sys/bus/pci/devices/0000:01:00.0/numa_node\n",
      "Your kernel may have been built without NUMA support.\n",
      "2023-10-08 13:00:04.589287: I tensorflow/core/common_runtime/gpu/gpu_device.cc:1977] Could not identify NUMA node of platform GPU id 0, defaulting to 0.  Your kernel may not have been built with NUMA support.\n",
      "2023-10-08 13:00:04.589363: I tensorflow/compiler/xla/stream_executor/cuda/cuda_gpu_executor.cc:880] could not open file to read NUMA node: /sys/bus/pci/devices/0000:01:00.0/numa_node\n",
      "Your kernel may have been built without NUMA support.\n",
      "2023-10-08 13:00:04.589384: I tensorflow/core/common_runtime/gpu/gpu_device.cc:1886] Created device /job:localhost/replica:0/task:0/device:GPU:0 with 3413 MB memory:  -> device: 0, name: NVIDIA GeForce RTX 3060 Laptop GPU, pci bus id: 0000:01:00.0, compute capability: 8.6\n"
     ]
    }
   ],
   "source": [
    "model = PostureDetectionModel_Dense(output_class)"
   ]
  },
  {
   "cell_type": "code",
   "execution_count": 6,
   "metadata": {},
   "outputs": [],
   "source": [
    "model.build(input_shape=(None, 200, 3))"
   ]
  },
  {
   "cell_type": "code",
   "execution_count": 7,
   "metadata": {},
   "outputs": [
    {
     "name": "stdout",
     "output_type": "stream",
     "text": [
      "Model: \"posture_detection_model__dense\"\n",
      "_________________________________________________________________\n",
      " Layer (type)                Output Shape              Param #   \n",
      "=================================================================\n",
      " model (Functional)          (None, 5)                 31685     \n",
      "|¯¯¯¯¯¯¯¯¯¯¯¯¯¯¯¯¯¯¯¯¯¯¯¯¯¯¯¯¯¯¯¯¯¯¯¯¯¯¯¯¯¯¯¯¯¯¯¯¯¯¯¯¯¯¯¯¯¯¯¯¯¯¯|\n",
      "| input_1 (InputLayer)       [(None, 200, 3)]          0        |\n",
      "|                                                               |\n",
      "| tf.__operators__.getitem   (None, 200)               0        |\n",
      "| (SlicingOpLambda)                                             |\n",
      "|                                                               |\n",
      "| tf.__operators__.getitem_  (None, 200)               0        |\n",
      "| 1 (SlicingOpLambda)                                           |\n",
      "|                                                               |\n",
      "| tf.__operators__.getitem_  (None, 200)               0        |\n",
      "| 2 (SlicingOpLambda)                                           |\n",
      "|                                                               |\n",
      "| dense (Dense)              (None, 40)                8040     |\n",
      "|                                                               |\n",
      "| dense_1 (Dense)            (None, 40)                8040     |\n",
      "|                                                               |\n",
      "| dense_2 (Dense)            (None, 40)                8040     |\n",
      "|                                                               |\n",
      "| dropout (Dropout)          (None, 40)                0        |\n",
      "|                                                               |\n",
      "| dropout_1 (Dropout)        (None, 40)                0        |\n",
      "|                                                               |\n",
      "| dropout_2 (Dropout)        (None, 40)                0        |\n",
      "|                                                               |\n",
      "| tf.concat (TFOpLambda)     (None, 120)               0        |\n",
      "|                                                               |\n",
      "| dense_3 (Dense)            (None, 60)                7260     |\n",
      "|                                                               |\n",
      "| dropout_3 (Dropout)        (None, 60)                0        |\n",
      "|                                                               |\n",
      "| dense_4 (Dense)            (None, 5)                 305      |\n",
      "|                                                               |\n",
      "| activation (Activation)    (None, 5)                 0        |\n",
      "¯¯¯¯¯¯¯¯¯¯¯¯¯¯¯¯¯¯¯¯¯¯¯¯¯¯¯¯¯¯¯¯¯¯¯¯¯¯¯¯¯¯¯¯¯¯¯¯¯¯¯¯¯¯¯¯¯¯¯¯¯¯¯¯¯\n",
      "=================================================================\n",
      "Total params: 31685 (123.77 KB)\n",
      "Trainable params: 31685 (123.77 KB)\n",
      "Non-trainable params: 0 (0.00 Byte)\n",
      "_________________________________________________________________\n"
     ]
    }
   ],
   "source": [
    "model.summary(expand_nested=True)"
   ]
  },
  {
   "cell_type": "code",
   "execution_count": 8,
   "metadata": {},
   "outputs": [],
   "source": [
    "optimizer = keras.optimizers.RMSprop(learning_rate=1e-3)\n",
    "loss_fn = keras.losses.CategoricalCrossentropy()"
   ]
  },
  {
   "cell_type": "code",
   "execution_count": 9,
   "metadata": {},
   "outputs": [],
   "source": [
    "def train(optimizer, criterion):\n",
    "    print(\"Training the Model...\")\n",
    "    loss_metric = keras.metrics.Mean()\n",
    "    with tf.device('/device:GPU:0'):\n",
    "        for step, x_batch_train in enumerate(train_dataset):\n",
    "            with tf.GradientTape() as tape:\n",
    "                data, label, window = x_batch_train\n",
    "                # Forward pass\n",
    "                output = model(data, training=True)\n",
    "                # Compute loss\n",
    "                loss = criterion(label, output)\n",
    "                loss += sum(model.losses)\n",
    "                \n",
    "            grads = tape.gradient(loss, model.trainable_weights)\n",
    "            optimizer.apply_gradients(zip(grads, model.trainable_weights))\n",
    "\n",
    "            loss_metric(loss)\n",
    "\n",
    "    return loss_metric.result()\n",
    "\n",
    "def validation(criterion):\n",
    "    print(\"Validating the Model...\")\n",
    "    loss_metric = keras.metrics.Mean()\n",
    "    with tf.device('/device:GPU:0'):\n",
    "        for step, x_batch_validation in enumerate(val_dataset):\n",
    "            data, label, window = x_batch_validation\n",
    "            # Forward pass\n",
    "            output = model(data, training=False)\n",
    "            # Compute loss\n",
    "            loss = criterion(label, output)\n",
    "            loss += sum(model.losses)\n",
    "            \n",
    "            loss_metric(loss)\n",
    "\n",
    "    return loss_metric.result()\n",
    "\n",
    "def test():\n",
    "    print(\"Testing the Model...\")\n",
    "    \n",
    "    y_true = []\n",
    "    y_pred = []\n",
    "\n",
    "    for step, x_batch_test in enumerate(test_dataset):\n",
    "        data, label, window = x_batch_test\n",
    "        # Forward pass\n",
    "        output = model(data, training=False)\n",
    "        # Convert to 1 hot encoding\n",
    "        predicted = tf.argmax(output, axis=1)\n",
    "        label = tf.argmax(label, axis=1)\n",
    "\n",
    "        y_true.append(label)\n",
    "        y_pred.append(predicted)\n",
    "        \n",
    "    concat_y_true = tf.concat(y_true, axis=0)\n",
    "    concat_y_pred = tf.concat(y_pred, axis=0)\n",
    "\n",
    "    print(classification_report(concat_y_true, concat_y_pred))\n"
   ]
  },
  {
   "cell_type": "code",
   "execution_count": 10,
   "metadata": {},
   "outputs": [
    {
     "name": "stdout",
     "output_type": "stream",
     "text": [
      "Training the Model...\n"
     ]
    },
    {
     "name": "stderr",
     "output_type": "stream",
     "text": [
      "2023-10-08 13:00:06.002695: I tensorflow/tsl/platform/default/subprocess.cc:304] Start cannot spawn child process: No such file or directory\n",
      "2023-10-08 13:00:06.751435: I tensorflow/compiler/xla/service/service.cc:168] XLA service 0x5641ed856010 initialized for platform CUDA (this does not guarantee that XLA will be used). Devices:\n",
      "2023-10-08 13:00:06.751479: I tensorflow/compiler/xla/service/service.cc:176]   StreamExecutor device (0): NVIDIA GeForce RTX 3060 Laptop GPU, Compute Capability 8.6\n",
      "2023-10-08 13:00:06.755357: I tensorflow/compiler/mlir/tensorflow/utils/dump_mlir_util.cc:269] disabling MLIR crash reproducer, set env var `MLIR_CRASH_REPRODUCER_DIRECTORY` to enable.\n",
      "2023-10-08 13:00:06.890576: I tensorflow/compiler/xla/stream_executor/cuda/cuda_dnn.cc:442] Loaded cuDNN version 8700\n",
      "2023-10-08 13:00:06.941497: I ./tensorflow/compiler/jit/device_compiler.h:186] Compiled cluster using XLA!  This line is logged at most once for the lifetime of the process.\n"
     ]
    },
    {
     "name": "stdout",
     "output_type": "stream",
     "text": [
      "WARNING:tensorflow:5 out of the last 5 calls to <function _BaseOptimizer._update_step_xla at 0x7f810c1fa1f0> triggered tf.function retracing. Tracing is expensive and the excessive number of tracings could be due to (1) creating @tf.function repeatedly in a loop, (2) passing tensors with different shapes, (3) passing Python objects instead of tensors. For (1), please define your @tf.function outside of the loop. For (2), @tf.function has reduce_retracing=True option that can avoid unnecessary retracing. For (3), please refer to https://www.tensorflow.org/guide/function#controlling_retracing and https://www.tensorflow.org/api_docs/python/tf/function for  more details.\n",
      "WARNING:tensorflow:6 out of the last 6 calls to <function _BaseOptimizer._update_step_xla at 0x7f810c1fa1f0> triggered tf.function retracing. Tracing is expensive and the excessive number of tracings could be due to (1) creating @tf.function repeatedly in a loop, (2) passing tensors with different shapes, (3) passing Python objects instead of tensors. For (1), please define your @tf.function outside of the loop. For (2), @tf.function has reduce_retracing=True option that can avoid unnecessary retracing. For (3), please refer to https://www.tensorflow.org/guide/function#controlling_retracing and https://www.tensorflow.org/api_docs/python/tf/function for  more details.\n",
      "Validating the Model...\n",
      "Epoch 0: train loss = 0.9837, val loss = 0.7687\n",
      "Training the Model...\n",
      "Validating the Model...\n",
      "Epoch 1: train loss = 0.7588, val loss = 0.6954\n",
      "Training the Model...\n",
      "Validating the Model...\n",
      "Epoch 2: train loss = 0.7152, val loss = 0.6737\n",
      "Training the Model...\n",
      "Validating the Model...\n",
      "Epoch 3: train loss = 0.6872, val loss = 0.6553\n",
      "Training the Model...\n",
      "Validating the Model...\n",
      "Epoch 4: train loss = 0.6599, val loss = 0.6491\n",
      "Training the Model...\n",
      "Validating the Model...\n",
      "Epoch 5: train loss = 0.6594, val loss = 0.6304\n",
      "Training the Model...\n",
      "Validating the Model...\n",
      "Epoch 6: train loss = 0.6506, val loss = 0.6259\n",
      "Training the Model...\n",
      "Validating the Model...\n",
      "Epoch 7: train loss = 0.6373, val loss = 0.6239\n",
      "Training the Model...\n",
      "Validating the Model...\n",
      "Epoch 8: train loss = 0.6294, val loss = 0.6125\n",
      "Training the Model...\n",
      "Validating the Model...\n",
      "Epoch 9: train loss = 0.6273, val loss = 0.6118\n",
      "Training the Model...\n",
      "Validating the Model...\n",
      "Epoch 10: train loss = 0.6186, val loss = 0.6077\n",
      "Training the Model...\n",
      "Validating the Model...\n",
      "Epoch 11: train loss = 0.6202, val loss = 0.6108\n",
      "Training the Model...\n",
      "Validating the Model...\n",
      "Epoch 12: train loss = 0.6079, val loss = 0.5918\n",
      "Training the Model...\n",
      "Validating the Model...\n",
      "Epoch 13: train loss = 0.6140, val loss = 0.5958\n",
      "Training the Model...\n",
      "Validating the Model...\n",
      "Epoch 14: train loss = 0.6120, val loss = 0.5992\n",
      "Training the Model...\n",
      "Validating the Model...\n",
      "Epoch 15: train loss = 0.6057, val loss = 0.5984\n",
      "Training the Model...\n",
      "Validating the Model...\n",
      "Epoch 16: train loss = 0.5979, val loss = 0.5960\n",
      "Training the Model...\n",
      "Validating the Model...\n",
      "Epoch 17: train loss = 0.6020, val loss = 0.5836\n",
      "Training the Model...\n",
      "Validating the Model...\n",
      "Epoch 18: train loss = 0.6042, val loss = 0.5843\n",
      "Training the Model...\n",
      "Validating the Model...\n",
      "Epoch 19: train loss = 0.6010, val loss = 0.5857\n",
      "Training the Model...\n",
      "Validating the Model...\n",
      "Epoch 20: train loss = 0.5929, val loss = 0.5850\n",
      "Training the Model...\n",
      "Validating the Model...\n",
      "Epoch 21: train loss = 0.5941, val loss = 0.5833\n",
      "Training the Model...\n",
      "Validating the Model...\n",
      "Epoch 22: train loss = 0.6013, val loss = 0.5809\n",
      "Training the Model...\n",
      "Validating the Model...\n",
      "Epoch 23: train loss = 0.5929, val loss = 0.5880\n",
      "Training the Model...\n",
      "Validating the Model...\n",
      "Epoch 24: train loss = 0.5889, val loss = 0.5916\n",
      "Training the Model...\n",
      "Validating the Model...\n",
      "Epoch 25: train loss = 0.5900, val loss = 0.5866\n",
      "Training the Model...\n",
      "Validating the Model...\n",
      "Epoch 26: train loss = 0.5931, val loss = 0.5757\n",
      "Training the Model...\n",
      "Validating the Model...\n",
      "Epoch 27: train loss = 0.5795, val loss = 0.5789\n",
      "Training the Model...\n",
      "Validating the Model...\n",
      "Epoch 28: train loss = 0.5854, val loss = 0.5745\n",
      "Training the Model...\n",
      "Validating the Model...\n",
      "Epoch 29: train loss = 0.5857, val loss = 0.5773\n",
      "Training the Model...\n",
      "Validating the Model...\n",
      "Epoch 30: train loss = 0.5871, val loss = 0.5769\n",
      "Training the Model...\n",
      "Validating the Model...\n",
      "Epoch 31: train loss = 0.5862, val loss = 0.5747\n",
      "Training the Model...\n",
      "Validating the Model...\n",
      "Epoch 32: train loss = 0.5814, val loss = 0.5751\n",
      "Training the Model...\n",
      "Validating the Model...\n",
      "Epoch 33: train loss = 0.5838, val loss = 0.5720\n",
      "Training the Model...\n",
      "Validating the Model...\n",
      "Epoch 34: train loss = 0.5963, val loss = 0.5716\n",
      "Training the Model...\n",
      "Validating the Model...\n",
      "Epoch 35: train loss = 0.5826, val loss = 0.5699\n",
      "Training the Model...\n",
      "Validating the Model...\n",
      "Epoch 36: train loss = 0.5838, val loss = 0.5730\n",
      "Training the Model...\n",
      "Validating the Model...\n",
      "Epoch 37: train loss = 0.5792, val loss = 0.5772\n",
      "Training the Model...\n",
      "Validating the Model...\n",
      "Epoch 38: train loss = 0.5839, val loss = 0.5725\n",
      "Training the Model...\n",
      "Validating the Model...\n",
      "Epoch 39: train loss = 0.5769, val loss = 0.5717\n",
      "Training the Model...\n",
      "Validating the Model...\n",
      "Epoch 40: train loss = 0.5868, val loss = 0.5711\n",
      "Training the Model...\n",
      "Validating the Model...\n",
      "Epoch 41: train loss = 0.5811, val loss = 0.5716\n",
      "Training the Model...\n",
      "Validating the Model...\n",
      "Epoch 42: train loss = 0.5900, val loss = 0.5665\n",
      "Training the Model...\n",
      "Validating the Model...\n",
      "Epoch 43: train loss = 0.5823, val loss = 0.5678\n",
      "Training the Model...\n",
      "Validating the Model...\n",
      "Epoch 44: train loss = 0.5908, val loss = 0.5708\n",
      "Training the Model...\n",
      "Validating the Model...\n",
      "Epoch 45: train loss = 0.5881, val loss = 0.5716\n",
      "Training the Model...\n",
      "Validating the Model...\n",
      "Epoch 46: train loss = 0.5768, val loss = 0.5745\n",
      "Training the Model...\n",
      "Validating the Model...\n",
      "Epoch 47: train loss = 0.5750, val loss = 0.5683\n",
      "Training the Model...\n",
      "Validating the Model...\n",
      "Epoch 48: train loss = 0.5822, val loss = 0.5739\n",
      "Training the Model...\n",
      "Validating the Model...\n",
      "Epoch 49: train loss = 0.5743, val loss = 0.5732\n",
      "Training the Model...\n",
      "Validating the Model...\n",
      "Epoch 50: train loss = 0.5921, val loss = 0.5702\n",
      "Training the Model...\n",
      "Validating the Model...\n",
      "Epoch 51: train loss = 0.5830, val loss = 0.5710\n",
      "Training the Model...\n",
      "Validating the Model...\n",
      "Epoch 52: train loss = 0.5770, val loss = 0.5662\n",
      "Training the Model...\n",
      "Validating the Model...\n",
      "Epoch 53: train loss = 0.5875, val loss = 0.5641\n",
      "Training the Model...\n",
      "Validating the Model...\n",
      "Epoch 54: train loss = 0.5807, val loss = 0.5731\n",
      "Training the Model...\n",
      "Validating the Model...\n",
      "Epoch 55: train loss = 0.5779, val loss = 0.5646\n",
      "Training the Model...\n",
      "Validating the Model...\n",
      "Epoch 56: train loss = 0.5874, val loss = 0.5682\n",
      "Training the Model...\n",
      "Validating the Model...\n",
      "Epoch 57: train loss = 0.5689, val loss = 0.5661\n",
      "Training the Model...\n",
      "Validating the Model...\n",
      "Epoch 58: train loss = 0.5766, val loss = 0.5645\n",
      "Training the Model...\n",
      "Validating the Model...\n",
      "Epoch 59: train loss = 0.5846, val loss = 0.5664\n",
      "Training the Model...\n",
      "Validating the Model...\n",
      "Epoch 60: train loss = 0.5764, val loss = 0.5667\n",
      "Training the Model...\n",
      "Validating the Model...\n",
      "Epoch 61: train loss = 0.5822, val loss = 0.5632\n",
      "Training the Model...\n",
      "Validating the Model...\n",
      "Epoch 62: train loss = 0.5691, val loss = 0.5643\n",
      "Training the Model...\n",
      "Validating the Model...\n",
      "Epoch 63: train loss = 0.5877, val loss = 0.5634\n",
      "Training the Model...\n",
      "Validating the Model...\n",
      "Epoch 64: train loss = 0.5857, val loss = 0.5656\n",
      "Training the Model...\n",
      "Validating the Model...\n",
      "Epoch 65: train loss = 0.5731, val loss = 0.5622\n",
      "Training the Model...\n",
      "Validating the Model...\n",
      "Epoch 66: train loss = 0.5773, val loss = 0.5691\n",
      "Training the Model...\n",
      "Validating the Model...\n",
      "Epoch 67: train loss = 0.5715, val loss = 0.5667\n",
      "Training the Model...\n",
      "Validating the Model...\n",
      "Epoch 68: train loss = 0.5819, val loss = 0.5669\n",
      "Training the Model...\n",
      "Validating the Model...\n",
      "Epoch 69: train loss = 0.5740, val loss = 0.5643\n",
      "Training the Model...\n",
      "Validating the Model...\n",
      "Epoch 70: train loss = 0.5754, val loss = 0.5650\n",
      "Training the Model...\n",
      "Validating the Model...\n",
      "Epoch 71: train loss = 0.5772, val loss = 0.5661\n",
      "Training the Model...\n",
      "Validating the Model...\n",
      "Epoch 72: train loss = 0.5846, val loss = 0.5665\n",
      "Training the Model...\n",
      "Validating the Model...\n",
      "Epoch 73: train loss = 0.5814, val loss = 0.5648\n",
      "Training the Model...\n",
      "Validating the Model...\n",
      "Epoch 74: train loss = 0.5830, val loss = 0.5666\n",
      "Training the Model...\n",
      "Validating the Model...\n",
      "Epoch 75: train loss = 0.5835, val loss = 0.5721\n",
      "Training the Model...\n",
      "Validating the Model...\n",
      "Epoch 76: train loss = 0.5795, val loss = 0.5668\n",
      "Training the Model...\n",
      "Validating the Model...\n",
      "Epoch 77: train loss = 0.5655, val loss = 0.5694\n",
      "Training the Model...\n",
      "Validating the Model...\n",
      "Epoch 78: train loss = 0.5729, val loss = 0.5763\n",
      "Training the Model...\n",
      "Validating the Model...\n",
      "Epoch 79: train loss = 0.5724, val loss = 0.5772\n",
      "Training the Model...\n",
      "Validating the Model...\n",
      "Epoch 80: train loss = 0.5707, val loss = 0.5702\n",
      "Training the Model...\n",
      "Validating the Model...\n",
      "Epoch 81: train loss = 0.5726, val loss = 0.5659\n",
      "Training the Model...\n",
      "Validating the Model...\n",
      "Epoch 82: train loss = 0.5722, val loss = 0.5716\n",
      "Training the Model...\n",
      "Validating the Model...\n",
      "Epoch 83: train loss = 0.5727, val loss = 0.5679\n",
      "Training the Model...\n",
      "Validating the Model...\n",
      "Epoch 84: train loss = 0.5765, val loss = 0.5709\n",
      "Training the Model...\n",
      "Validating the Model...\n",
      "Epoch 85: train loss = 0.5765, val loss = 0.5653\n",
      "Training the Model...\n",
      "Validating the Model...\n",
      "Epoch 86: train loss = 0.5733, val loss = 0.5717\n",
      "Training the Model...\n",
      "Validating the Model...\n",
      "Epoch 87: train loss = 0.5752, val loss = 0.5672\n",
      "Training the Model...\n",
      "Validating the Model...\n",
      "Epoch 88: train loss = 0.5713, val loss = 0.5652\n",
      "Training the Model...\n",
      "Validating the Model...\n",
      "Epoch 89: train loss = 0.5668, val loss = 0.5707\n",
      "Training the Model...\n",
      "Validating the Model...\n",
      "Epoch 90: train loss = 0.5733, val loss = 0.5685\n",
      "Training the Model...\n",
      "Validating the Model...\n",
      "Epoch 91: train loss = 0.5820, val loss = 0.5758\n",
      "Training the Model...\n",
      "Validating the Model...\n",
      "Epoch 92: train loss = 0.5774, val loss = 0.5750\n",
      "Training the Model...\n",
      "Validating the Model...\n",
      "Epoch 93: train loss = 0.5683, val loss = 0.5698\n",
      "Training the Model...\n",
      "Validating the Model...\n",
      "Epoch 94: train loss = 0.5690, val loss = 0.5721\n",
      "Training the Model...\n",
      "Validating the Model...\n",
      "Epoch 95: train loss = 0.5734, val loss = 0.5637\n",
      "Training the Model...\n",
      "Validating the Model...\n",
      "Epoch 96: train loss = 0.5583, val loss = 0.5676\n",
      "Training the Model...\n",
      "Validating the Model...\n",
      "Epoch 97: train loss = 0.5771, val loss = 0.5684\n",
      "Training the Model...\n",
      "Validating the Model...\n",
      "Epoch 98: train loss = 0.5660, val loss = 0.5718\n",
      "Training the Model...\n",
      "Validating the Model...\n",
      "Epoch 99: train loss = 0.5798, val loss = 0.5681\n",
      "Testing the Model...\n",
      "              precision    recall  f1-score   support\n",
      "\n",
      "           0       1.00      0.69      0.82        98\n",
      "           1       0.84      0.67      0.74        84\n",
      "           2       0.56      0.94      0.70       142\n",
      "           3       0.92      0.69      0.79        88\n",
      "           4       0.81      0.62      0.70       119\n",
      "\n",
      "    accuracy                           0.74       531\n",
      "   macro avg       0.83      0.72      0.75       531\n",
      "weighted avg       0.80      0.74      0.75       531\n",
      "\n"
     ]
    }
   ],
   "source": [
    "epochs = 100\n",
    "\n",
    "train_losses = []\n",
    "valid_losses = []\n",
    "\n",
    "# Iterate over epochs.\n",
    "for epoch in range(epochs):\n",
    "    train_loss = train(optimizer, loss_fn)\n",
    "    train_losses.append(train_loss)\n",
    "\n",
    "    val_loss = validation(loss_fn)\n",
    "    valid_losses.append(val_loss)\n",
    "\n",
    "    print(\"Epoch %d: train loss = %.4f, val loss = %.4f\" % (epoch, train_loss, val_loss))\n",
    "\n",
    "test()"
   ]
  },
  {
   "cell_type": "code",
   "execution_count": 11,
   "metadata": {},
   "outputs": [
    {
     "data": {
      "image/png": "[encoded data removed]",
      "text/plain": [
       "<Figure size 640x480 with 1 Axes>"
      ]
     },
     "metadata": {},
     "output_type": "display_data"
    }
   ],
   "source": [
    "#plotting the training and validation loss\n",
    "import matplotlib.pyplot as plt\n",
    "plt.plot(train_losses, label='Training loss')\n",
    "plt.plot(valid_losses, label='Validation loss')\n",
    "plt.legend()\n",
    "plt.savefig('losses - relu activated.png')\n",
    "plt.show()"
   ]
  },
  {
   "cell_type": "code",
   "execution_count": 12,
   "metadata": {},
   "outputs": [],
   "source": [
    "# Assume 'model' is your trained model\n",
    "model.save_weights(Model_Name + '.h5')"
   ]
  },
  {
   "cell_type": "code",
   "execution_count": 13,
   "metadata": {},
   "outputs": [
    {
     "name": "stderr",
     "output_type": "stream",
     "text": [
      "2023-10-08 13:32:34.809385: I tensorflow/compiler/xla/stream_executor/cuda/cuda_gpu_executor.cc:880] could not open file to read NUMA node: /sys/bus/pci/devices/0000:01:00.0/numa_node\n",
      "Your kernel may have been built without NUMA support.\n",
      "2023-10-08 13:32:34.809540: I tensorflow/core/grappler/devices.cc:66] Number of eligible GPUs (core count >= 8, compute capability >= 0.0): 1\n",
      "2023-10-08 13:32:34.809800: I tensorflow/core/grappler/clusters/single_machine.cc:361] Starting new session\n",
      "2023-10-08 13:32:34.810447: I tensorflow/compiler/xla/stream_executor/cuda/cuda_gpu_executor.cc:880] could not open file to read NUMA node: /sys/bus/pci/devices/0000:01:00.0/numa_node\n",
      "Your kernel may have been built without NUMA support.\n",
      "2023-10-08 13:32:34.810535: I tensorflow/compiler/xla/stream_executor/cuda/cuda_gpu_executor.cc:880] could not open file to read NUMA node: /sys/bus/pci/devices/0000:01:00.0/numa_node\n",
      "Your kernel may have been built without NUMA support.\n",
      "2023-10-08 13:32:34.810571: I tensorflow/compiler/xla/stream_executor/cuda/cuda_gpu_executor.cc:880] could not open file to read NUMA node: /sys/bus/pci/devices/0000:01:00.0/numa_node\n",
      "Your kernel may have been built without NUMA support.\n",
      "2023-10-08 13:32:34.811070: I tensorflow/compiler/xla/stream_executor/cuda/cuda_gpu_executor.cc:880] could not open file to read NUMA node: /sys/bus/pci/devices/0000:01:00.0/numa_node\n",
      "Your kernel may have been built without NUMA support.\n",
      "2023-10-08 13:32:34.811081: I tensorflow/core/common_runtime/gpu/gpu_device.cc:1977] Could not identify NUMA node of platform GPU id 0, defaulting to 0.  Your kernel may not have been built with NUMA support.\n",
      "2023-10-08 13:32:34.811133: I tensorflow/compiler/xla/stream_executor/cuda/cuda_gpu_executor.cc:880] could not open file to read NUMA node: /sys/bus/pci/devices/0000:01:00.0/numa_node\n",
      "Your kernel may have been built without NUMA support.\n",
      "2023-10-08 13:32:34.811162: I tensorflow/core/common_runtime/gpu/gpu_device.cc:1886] Created device /job:localhost/replica:0/task:0/device:GPU:0 with 3413 MB memory:  -> device: 0, name: NVIDIA GeForce RTX 3060 Laptop GPU, pci bus id: 0000:01:00.0, compute capability: 8.6\n",
      "2023-10-08 13:32:34.866063: W tensorflow/compiler/mlir/lite/python/tf_tfl_flatbuffer_helpers.cc:378] Ignored output_format.\n",
      "2023-10-08 13:32:34.866116: W tensorflow/compiler/mlir/lite/python/tf_tfl_flatbuffer_helpers.cc:381] Ignored drop_control_dependency.\n",
      "2023-10-08 13:32:34.909337: I tensorflow/compiler/mlir/lite/flatbuffer_export.cc:2245] Estimated count of arithmetic ops: 0.539 M  ops, equivalently 0.269 M  MACs\n"
     ]
    }
   ],
   "source": [
    "# Convert the model.\n",
    "converter = tf.lite.TFLiteConverter.from_keras_model(model)\n",
    "converter.target_spec.supported_ops = [tf.lite.OpsSet.TFLITE_BUILTINS, tf.lite.OpsSet.SELECT_TF_OPS] \n",
    "converter._experimental_lower_tensor_list_ops = False\n",
    "\n",
    "tflite_model = converter.convert()\n",
    "\n",
    "# Save the model.\n",
    "with open(Model_Name + '.tflite', 'wb') as f:\n",
    "  f.write(tflite_model)"
   ]
  },
  {
   "cell_type": "code",
   "execution_count": 14,
   "metadata": {},
   "outputs": [],
   "source": [
    "!xxd -i posture_detection_model.tflite > posture_detection_model.cc"
   ]
  }
 ],
 "metadata": {
  "kernelspec": {
   "display_name": "cen598",
   "language": "python",
   "name": "python3"
  },
  "language_info": {
   "codemirror_mode": {
    "name": "ipython",
    "version": 3
   },
   "file_extension": ".py",
   "mimetype": "text/x-python",
   "name": "python",
   "nbconvert_exporter": "python",
   "pygments_lexer": "ipython3",
   "version": "3.9.18"
  },
  "orig_nbformat": 4
 },
 "nbformat": 4,
 "nbformat_minor": 2
}
