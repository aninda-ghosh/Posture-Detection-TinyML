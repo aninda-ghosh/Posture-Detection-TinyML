{
 "cells": [
  {
   "cell_type": "code",
   "execution_count": null,
   "metadata": {},
   "outputs": [],
   "source": [
    "import serial\n",
    "import time\n",
    "import tensorflow as tf\n",
    "import tensorflow.keras as keras\n",
    "import csv\n",
    "import numpy as np\n",
    "from _posture_detection_model import PostureDetectionModel"
   ]
  },
  {
   "cell_type": "code",
   "execution_count": null,
   "metadata": {},
   "outputs": [],
   "source": [
    "# open serial port\n",
    "ser = serial.Serial('COM5', 9600, timeout=0)"
   ]
  },
  {
   "cell_type": "code",
   "execution_count": null,
   "metadata": {},
   "outputs": [],
   "source": [
    "# Create 200x3 numpy array to store data\n",
    "ring_buffer = np.zeros((1, 200, 3))"
   ]
  },
  {
   "cell_type": "code",
   "execution_count": null,
   "metadata": {},
   "outputs": [],
   "source": [
    "ring_buffer.shape"
   ]
  },
  {
   "cell_type": "code",
   "execution_count": null,
   "metadata": {},
   "outputs": [],
   "source": [
    "model = PostureDetectionModel(3, 200, 5)\n",
    "model.build(input_shape=(None, 200, 3))\n",
    "model.load_weights('posture_detection_model_relu.h5')"
   ]
  },
  {
   "cell_type": "code",
   "execution_count": 7,
   "metadata": {},
   "outputs": [],
   "source": [
    "ser.flush()\n",
    "\n",
    "\n",
    "index = 0\n",
    "\n",
    "while True:\n",
    "    line = ser.readline()\n",
    "\n",
    "    data = list(csv.reader([line.decode('utf-8').rstrip()]))\n",
    "    \n",
    "     # if ring buffer is full, predict\n",
    "    if index == 200:\n",
    "        #predict\n",
    "        with tf.device('/device:GPU:0'):\n",
    "            output = model(ring_buffer, training=False)\n",
    "            output = np.argmax(output, axis=1)\n",
    "            print(output)\n",
    "        index = 0\n",
    "        ser.flush()\n",
    "\n",
    "    # store data in ring buffer\n",
    "    ring_buffer[0, index, :] = data[0]\n",
    "    index += 1\n",
    "\n",
    "    time.sleep(0.005)"
   ]
  }
 ],
 "metadata": {
  "kernelspec": {
   "display_name": "cen598-tf",
   "language": "python",
   "name": "python3"
  },
  "language_info": {
   "codemirror_mode": {
    "name": "ipython",
    "version": 3
   },
   "file_extension": ".py",
   "mimetype": "text/x-python",
   "name": "python",
   "nbconvert_exporter": "python",
   "pygments_lexer": "ipython3",
   "version": "3.9.18"
  }
 },
 "nbformat": 4,
 "nbformat_minor": 2
}
