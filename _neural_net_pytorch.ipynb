{
 "cells": [
  {
   "cell_type": "code",
   "execution_count": 1,
   "metadata": {},
   "outputs": [],
   "source": [
    "import torch\n",
    "from torch import nn\n",
    "from torch import optim\n",
    "import torch.nn.functional as F\n",
    "import torch.utils.data\n",
    "import torch.utils\n",
    "import glob\n",
    "import pandas as pd\n",
    "import numpy as np\n",
    "from sklearn.metrics import classification_report"
   ]
  },
  {
   "cell_type": "code",
   "execution_count": 2,
   "metadata": {},
   "outputs": [],
   "source": [
    "class PostureDataset(torch.utils.data.Dataset):\n",
    "    def __init__(self, root, transforms=None):\n",
    "        self.root = root\n",
    "        self.transforms = transforms\n",
    "\n",
    "        files = glob.glob(root + '*.csv')\n",
    "        self.data = list([pd.read_csv(f) for f in files])\n",
    "\n",
    "    def __getitem__(self, idx):\n",
    "        window = self.data[idx]['window'][0]\n",
    "        label = self.data[idx][['supine', 'prone', 'side', 'sitting', 'unknown']].values[0]\n",
    "        \n",
    "        data = []\n",
    "        data.append(self.data[idx]['sens_x'].values)\n",
    "        data.append(self.data[idx]['sens_y'].values)\n",
    "        data.append(self.data[idx]['sens_z'].values)\n",
    "\n",
    "        data = torch.tensor(np.array(data), dtype=torch.float32)\n",
    "        label = torch.tensor(label, dtype=torch.float32)\n",
    "\n",
    "        #Perform min-max normalization\n",
    "        # data = (data - data.min()) / (data.max() - data.min())\n",
    "\n",
    "        return idx, data, label, window\n",
    "\n",
    "    def __len__(self):\n",
    "        return len(self.data)"
   ]
  },
  {
   "cell_type": "code",
   "execution_count": 3,
   "metadata": {},
   "outputs": [],
   "source": [
    "dataset = PostureDataset('data/processed/')"
   ]
  },
  {
   "cell_type": "code",
   "execution_count": 4,
   "metadata": {},
   "outputs": [],
   "source": [
    "_, data, label, _ = dataset[1000]"
   ]
  },
  {
   "cell_type": "code",
   "execution_count": 5,
   "metadata": {},
   "outputs": [],
   "source": [
    "# Define train, valid, test split (80%, 10%, 10%)\n",
    "train_size = int(0.75 * len(dataset))\n",
    "valid_size = int(0.1 * len(dataset))\n",
    "test_size = len(dataset) - train_size - valid_size\n",
    "\n",
    "train_dataset, valid_dataset, test_dataset = torch.utils.data.random_split(dataset, [train_size, valid_size, test_size])"
   ]
  },
  {
   "cell_type": "code",
   "execution_count": 6,
   "metadata": {},
   "outputs": [
    {
     "data": {
      "text/plain": [
       "(5301, 3975, 530, 796)"
      ]
     },
     "execution_count": 6,
     "metadata": {},
     "output_type": "execute_result"
    }
   ],
   "source": [
    "len(dataset), len(train_dataset), len(valid_dataset), len(test_dataset)"
   ]
  },
  {
   "cell_type": "code",
   "execution_count": 7,
   "metadata": {},
   "outputs": [],
   "source": [
    "# Define data loaders\n",
    "train_loader = torch.utils.data.DataLoader(train_dataset, batch_size=4, shuffle=True)\n",
    "valid_loader = torch.utils.data.DataLoader(valid_dataset, batch_size=8, shuffle=True)\n",
    "test_loader = torch.utils.data.DataLoader(test_dataset, batch_size=8, shuffle=True)"
   ]
  },
  {
   "cell_type": "code",
   "execution_count": 8,
   "metadata": {},
   "outputs": [],
   "source": [
    "input_channels = 3\n",
    "channel_sequence_dim = 200\n",
    "hidden_dim = 100\n",
    "output_class = 5"
   ]
  },
  {
   "cell_type": "code",
   "execution_count": 9,
   "metadata": {},
   "outputs": [],
   "source": [
    "class GRU_Linear_Network(nn.Module):\n",
    "    def __init__(self, input_sequence_length, hidden_dimension) -> None:\n",
    "        super(GRU_Linear_Network, self).__init__()\n",
    "\n",
    "        self.gru = nn.GRU(input_sequence_length, hidden_dimension, batch_first=True)\n",
    "        self.linear = nn.Linear(hidden_dimension, 40)\n",
    "        self.dropout = nn.Dropout(0.65)\n",
    "\n",
    "    def forward(self, x):\n",
    "        x, _ = self.gru(x)\n",
    "        x = self.linear(x)\n",
    "\n",
    "        if self.training:\n",
    "            x = self.dropout(x)\n",
    "        \n",
    "        x = F.relu(x)      # Change the activation here\n",
    "        return x"
   ]
  },
  {
   "cell_type": "code",
   "execution_count": 10,
   "metadata": {},
   "outputs": [],
   "source": [
    "class NeuralNetwork(nn.Module):\n",
    "    def __init__(self, channels, input_sequence_length, hidden_dimension, output_dimension) -> None:\n",
    "        super(NeuralNetwork, self).__init__()\n",
    "        \n",
    "        self.channels = channels\n",
    "        self.output_dimension = output_dimension\n",
    "        \n",
    "        self.level1_sensx = GRU_Linear_Network(input_sequence_length, hidden_dimension)\n",
    "        self.level1_sensy = GRU_Linear_Network(input_sequence_length, hidden_dimension)\n",
    "        self.level1_sensz = GRU_Linear_Network(input_sequence_length, hidden_dimension)\n",
    "\n",
    "        self.level2_linear = nn.Linear(channels*40, output_dimension)\n",
    "\n",
    "    def forward(self, x):\n",
    "        \n",
    "        # Level 1\n",
    "        level1_outputs_sensx     = self.level1_sensx(x[:, 0, :])\n",
    "        level1_outputs_sensy     = self.level1_sensy(x[:, 1, :])\n",
    "        level1_outputs_sensz     = self.level1_sensz(x[:, 2, :])\n",
    "\n",
    "        # Level 2\n",
    "        linear_inputs = torch.cat((level1_outputs_sensx, level1_outputs_sensy, level1_outputs_sensz), dim=1)\n",
    "        linear_outputs = self.level2_linear(linear_inputs)\n",
    "\n",
    "        linear_outputs = F.relu(linear_outputs)\n",
    "\n",
    "        return linear_outputs"
   ]
  },
  {
   "cell_type": "code",
   "execution_count": 11,
   "metadata": {},
   "outputs": [],
   "source": [
    "model = NeuralNetwork(input_channels, channel_sequence_dim, hidden_dim, output_class)"
   ]
  },
  {
   "cell_type": "code",
   "execution_count": 12,
   "metadata": {},
   "outputs": [
    {
     "name": "stdout",
     "output_type": "stream",
     "text": [
      "NeuralNetwork(\n",
      "  (level1_sensx): GRU_Linear_Network(\n",
      "    (gru): GRU(200, 100, batch_first=True)\n",
      "    (linear): Linear(in_features=100, out_features=40, bias=True)\n",
      "    (dropout): Dropout(p=0.65, inplace=False)\n",
      "  )\n",
      "  (level1_sensy): GRU_Linear_Network(\n",
      "    (gru): GRU(200, 100, batch_first=True)\n",
      "    (linear): Linear(in_features=100, out_features=40, bias=True)\n",
      "    (dropout): Dropout(p=0.65, inplace=False)\n",
      "  )\n",
      "  (level1_sensz): GRU_Linear_Network(\n",
      "    (gru): GRU(200, 100, batch_first=True)\n",
      "    (linear): Linear(in_features=100, out_features=40, bias=True)\n",
      "    (dropout): Dropout(p=0.65, inplace=False)\n",
      "  )\n",
      "  (level2_linear): Linear(in_features=120, out_features=5, bias=True)\n",
      ")\n"
     ]
    }
   ],
   "source": [
    "print(model)"
   ]
  },
  {
   "cell_type": "code",
   "execution_count": 13,
   "metadata": {},
   "outputs": [
    {
     "data": {
      "text/plain": [
       "device(type='cuda')"
      ]
     },
     "execution_count": 13,
     "metadata": {},
     "output_type": "execute_result"
    }
   ],
   "source": [
    "device = torch.device('cuda' if torch.cuda.is_available() else 'cpu')\n",
    "device"
   ]
  },
  {
   "cell_type": "code",
   "execution_count": 14,
   "metadata": {},
   "outputs": [],
   "source": [
    "def one_hot_ce_loss(outputs, targets):\n",
    "    criterion = nn.CrossEntropyLoss()\n",
    "    _, labels = torch.max(targets, dim=1)\n",
    "    return criterion(outputs, labels)"
   ]
  },
  {
   "cell_type": "code",
   "execution_count": 15,
   "metadata": {},
   "outputs": [],
   "source": [
    "def train(optimizer, criterion):\n",
    "    epoch_loss = 0\n",
    "    model.train()\n",
    "    for idx, data, label, window in train_loader:\n",
    "        datas = data.to(device=device)\n",
    "        labels = label.to(device=device)\n",
    "        \n",
    "        # Forward pass\n",
    "        outputs = model(datas)\n",
    "        loss = criterion(outputs, labels)\n",
    "\n",
    "        # Backward pass\n",
    "        optimizer.zero_grad()\n",
    "        loss.backward()\n",
    "        optimizer.step()\n",
    "\n",
    "        epoch_loss += loss.item()\n",
    "    return epoch_loss / len(train_loader)\n",
    "\n",
    "def validate(criterion):\n",
    "    epoch_loss = 0\n",
    "    model.eval()\n",
    "    with torch.no_grad():\n",
    "        y_true = []\n",
    "        y_pred = []\n",
    "\n",
    "        for idx, data, label, window in valid_loader:\n",
    "            data = data.to(device=device)\n",
    "            labels = label.to(device=device)\n",
    "\n",
    "            outputs = model(data)\n",
    "            loss = criterion(outputs, labels)\n",
    "            epoch_loss += loss.item()\n",
    "    \n",
    "    return epoch_loss / len(valid_loader)\n",
    "\n",
    "\n",
    "def test():\n",
    "    print(\"Testing the Model...\")\n",
    "    \n",
    "    model.eval()\n",
    "    with torch.no_grad():\n",
    "        y_true = []\n",
    "        y_pred = []\n",
    "\n",
    "        for idx, data, label, window in test_loader:\n",
    "            data = data.to(device=device)\n",
    "            label = label.to(device=device)\n",
    "\n",
    "            outputs = model(data)\n",
    "            _, predicted = torch.max(outputs.data, 1)\n",
    "            _, label = torch.max(label.data, 1)\n",
    "\n",
    "            y_true.append(label)\n",
    "            y_pred.append(predicted)\n",
    "            \n",
    "        concat_y_true = torch.cat(y_true, dim=0)\n",
    "        concat_y_pred = torch.cat(y_pred, dim=0)\n",
    "\n",
    "        print(classification_report(concat_y_true.cpu(), concat_y_pred.cpu()))"
   ]
  },
  {
   "cell_type": "code",
   "execution_count": 16,
   "metadata": {},
   "outputs": [
    {
     "name": "stdout",
     "output_type": "stream",
     "text": [
      "Epoch: 1/50, Train Loss: 1.5535, Valid Loss: 1.4478\n",
      "Epoch: 2/50, Train Loss: 1.4485, Valid Loss: 1.3375\n",
      "Epoch: 3/50, Train Loss: 1.3251, Valid Loss: 1.1890\n",
      "Epoch: 4/50, Train Loss: 1.2090, Valid Loss: 1.1604\n",
      "Epoch: 5/50, Train Loss: 1.1818, Valid Loss: 1.1302\n",
      "Epoch: 6/50, Train Loss: 1.1540, Valid Loss: 1.1310\n",
      "Epoch: 7/50, Train Loss: 1.1488, Valid Loss: 1.1439\n",
      "Epoch: 8/50, Train Loss: 1.1461, Valid Loss: 1.1308\n",
      "Epoch: 9/50, Train Loss: 1.1271, Valid Loss: 1.1262\n",
      "Epoch: 10/50, Train Loss: 1.1379, Valid Loss: 1.1236\n",
      "Epoch: 11/50, Train Loss: 1.1220, Valid Loss: 1.1170\n",
      "Epoch: 12/50, Train Loss: 1.1168, Valid Loss: 1.1082\n",
      "Epoch: 13/50, Train Loss: 1.1142, Valid Loss: 1.1102\n",
      "Epoch: 14/50, Train Loss: 1.1106, Valid Loss: 1.1134\n",
      "Epoch: 15/50, Train Loss: 1.1149, Valid Loss: 1.1334\n",
      "Epoch: 16/50, Train Loss: 1.1115, Valid Loss: 1.1164\n",
      "Epoch: 17/50, Train Loss: 1.1118, Valid Loss: 1.1304\n",
      "Epoch: 18/50, Train Loss: 1.1033, Valid Loss: 1.1138\n",
      "Epoch: 19/50, Train Loss: 1.1024, Valid Loss: 1.1142\n",
      "Epoch: 20/50, Train Loss: 1.0983, Valid Loss: 1.0987\n",
      "Epoch: 21/50, Train Loss: 1.1048, Valid Loss: 1.1094\n",
      "Epoch: 22/50, Train Loss: 1.1014, Valid Loss: 1.0968\n",
      "Epoch: 23/50, Train Loss: 1.0992, Valid Loss: 1.1923\n",
      "Epoch: 24/50, Train Loss: 1.0991, Valid Loss: 1.1078\n",
      "Epoch: 25/50, Train Loss: 1.0944, Valid Loss: 1.1203\n",
      "Epoch: 26/50, Train Loss: 1.0948, Valid Loss: 1.0995\n",
      "Epoch: 27/50, Train Loss: 1.0910, Valid Loss: 1.1144\n",
      "Epoch: 28/50, Train Loss: 1.0864, Valid Loss: 1.1256\n",
      "Epoch: 29/50, Train Loss: 1.0978, Valid Loss: 1.1022\n",
      "Epoch: 30/50, Train Loss: 1.0846, Valid Loss: 1.0902\n",
      "Epoch: 31/50, Train Loss: 1.0938, Valid Loss: 1.1129\n",
      "Epoch: 32/50, Train Loss: 1.0820, Valid Loss: 1.1293\n",
      "Epoch: 33/50, Train Loss: 1.0921, Valid Loss: 1.1234\n",
      "Epoch: 34/50, Train Loss: 1.0897, Valid Loss: 1.1161\n",
      "Epoch: 35/50, Train Loss: 1.0909, Valid Loss: 1.1151\n",
      "Epoch: 36/50, Train Loss: 1.0851, Valid Loss: 1.1252\n",
      "Epoch: 37/50, Train Loss: 1.0824, Valid Loss: 1.1434\n",
      "Epoch: 38/50, Train Loss: 1.0830, Valid Loss: 1.0881\n",
      "Epoch: 39/50, Train Loss: 1.0792, Valid Loss: 1.1127\n",
      "Epoch: 40/50, Train Loss: 1.0814, Valid Loss: 1.1263\n",
      "Epoch: 41/50, Train Loss: 1.0883, Valid Loss: 1.1161\n",
      "Epoch: 42/50, Train Loss: 1.0981, Valid Loss: 1.1294\n",
      "Epoch: 43/50, Train Loss: 1.0861, Valid Loss: 1.1252\n",
      "Epoch: 44/50, Train Loss: 1.0824, Valid Loss: 1.1350\n",
      "Epoch: 45/50, Train Loss: 1.0849, Valid Loss: 1.1237\n",
      "Epoch: 46/50, Train Loss: 1.0858, Valid Loss: 1.1160\n",
      "Epoch: 47/50, Train Loss: 1.0773, Valid Loss: 1.1414\n",
      "Epoch: 48/50, Train Loss: 1.0766, Valid Loss: 1.1081\n",
      "Epoch: 49/50, Train Loss: 1.0812, Valid Loss: 1.1124\n",
      "Epoch: 50/50, Train Loss: 1.0819, Valid Loss: 1.1266\n",
      "Testing the Model...\n",
      "              precision    recall  f1-score   support\n",
      "\n",
      "           0       0.24      0.75      0.36       124\n",
      "           1       0.94      0.36      0.52       141\n",
      "           2       0.69      0.46      0.55       219\n",
      "           3       0.78      0.39      0.52       126\n",
      "           4       0.65      0.48      0.55       186\n",
      "\n",
      "    accuracy                           0.48       796\n",
      "   macro avg       0.66      0.49      0.50       796\n",
      "weighted avg       0.67      0.48      0.51       796\n",
      "\n"
     ]
    }
   ],
   "source": [
    "# Define loss function and optimizer\n",
    "optimizer = optim.SGD(model.parameters(), lr=0.003, momentum=0.9)\n",
    "\n",
    "# Train the model\n",
    "epochs = 50\n",
    "model.to(device=device)\n",
    "\n",
    "train_losses = []\n",
    "valid_losses = []\n",
    "\n",
    "for epoch in range(epochs):\n",
    "    train_loss = train(optimizer, one_hot_ce_loss)\n",
    "    train_losses.append(train_loss)\n",
    "    \n",
    "    valid_loss = validate(one_hot_ce_loss)\n",
    "    valid_losses.append(valid_loss)\n",
    "\n",
    "    print(f'Epoch: {epoch+1}/{epochs}, Train Loss: {train_loss:.4f}, Valid Loss: {valid_loss:.4f}')\n",
    "\n",
    "test()"
   ]
  },
  {
   "cell_type": "code",
   "execution_count": 17,
   "metadata": {},
   "outputs": [
    {
     "data": {
      "image/png": "[encoded data removed]",
      "text/plain": [
       "<Figure size 640x480 with 1 Axes>"
      ]
     },
     "metadata": {},
     "output_type": "display_data"
    }
   ],
   "source": [
    "#plotting the training and validation loss\n",
    "import matplotlib.pyplot as plt\n",
    "plt.plot(train_losses, label='Training loss')\n",
    "plt.plot(valid_losses, label='Validation loss')\n",
    "plt.legend()\n",
    "plt.savefig('losses - relu activated.png')\n",
    "plt.show()"
   ]
  },
  {
   "cell_type": "code",
   "execution_count": null,
   "metadata": {},
   "outputs": [],
   "source": [
    "# save model\n",
    "torch.save(model.state_dict(), 'model-relu.pth')"
   ]
  },
  {
   "cell_type": "code",
   "execution_count": null,
   "metadata": {},
   "outputs": [],
   "source": []
  }
 ],
 "metadata": {
  "kernelspec": {
   "display_name": "cen598",
   "language": "python",
   "name": "python3"
  },
  "language_info": {
   "codemirror_mode": {
    "name": "ipython",
    "version": 3
   },
   "file_extension": ".py",
   "mimetype": "text/x-python",
   "name": "python",
   "nbconvert_exporter": "python",
   "pygments_lexer": "ipython3",
   "version": "3.9.18"
  },
  "orig_nbformat": 4
 },
 "nbformat": 4,
 "nbformat_minor": 2
}
